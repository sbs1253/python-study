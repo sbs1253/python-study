{
 "metadata": {
  "language_info": {
   "codemirror_mode": {
    "name": "ipython",
    "version": 3
   },
   "file_extension": ".py",
   "mimetype": "text/x-python",
   "name": "python",
   "nbconvert_exporter": "python",
   "pygments_lexer": "ipython3",
   "version": "3.8.5-final"
  },
  "orig_nbformat": 2,
  "kernelspec": {
   "name": "python3",
   "display_name": "Python 3",
   "language": "python"
  }
 },
 "nbformat": 4,
 "nbformat_minor": 2,
 "cells": [
  {
   "cell_type": "code",
   "execution_count": null,
   "metadata": {},
   "outputs": [],
   "source": [
    "def solution(mylist):\n",
    "    answer = []\n",
    "    for i in range(len(mylist)):\n",
    "        if i+1 == len(mylist):\n",
    "            break\n",
    "        else:\n",
    "            answer.append(abs(mylist[i] - mylist[i+1]))\n",
    "    return answer\n",
    "my = [83,48,13,4,71,11]\n",
    "print(solution(my))"
   ]
  },
  {
   "cell_type": "code",
   "execution_count": null,
   "metadata": {},
   "outputs": [],
   "source": [
    "def solution(mylist):\n",
    "    answer = []\n",
    "    for number1, number2 in zip(mylist, mylist[1:]):\n",
    "        answer.append(abs(number1 - number2))\n",
    "    return answer\n",
    "\n",
    "if __name__ == '__main__':\n",
    "    mylist = [83, 48, 13, 4, 71, 11]    \n",
    "    print(solution(mylist))\n"
   ]
  },
  {
   "cell_type": "code",
   "execution_count": null,
   "metadata": {},
   "outputs": [],
   "source": [
    "def solution(mylist):\n",
    "    answer = list(map(int,mylist))\n",
    "    return answer\n",
    "my = ['1','100','33']\n",
    "print(solution(my))"
   ]
  },
  {
   "cell_type": "code",
   "execution_count": null,
   "metadata": {},
   "outputs": [],
   "source": [
    "def solution(mylist):\n",
    "    answer = list(map(len, mylist))\n",
    "    return answer\n",
    "my = [[1],[2]]\n",
    "print(solution(my))"
   ]
  },
  {
   "cell_type": "code",
   "execution_count": null,
   "metadata": {},
   "outputs": [],
   "source": [
    "def solution(mylist):\n",
    "    answer = ''.join(mylist)\n",
    "    return str(answer)\n",
    "my = ['1','100','33']\n",
    "print(solution(my))"
   ]
  },
  {
   "cell_type": "code",
   "execution_count": null,
   "metadata": {},
   "outputs": [],
   "source": [
    "n = int(input().strip())\n",
    "for i in range(1,n+1):\n",
    "    print('*'*i)"
   ]
  },
  {
   "cell_type": "code",
   "execution_count": null,
   "metadata": {},
   "outputs": [],
   "source": [
    "n = 3\n",
    "answer= [123, 456]*n\n",
    "answer"
   ]
  },
  {
   "cell_type": "code",
   "execution_count": null,
   "metadata": {},
   "outputs": [],
   "source": [
    "# 곱집합 구하기\n",
    "import itertools\n",
    "\n",
    "iterable1 = 'ABCD'\n",
    "iterable2 = 'xy'\n",
    "iterable3 = '1234'\n",
    "a = itertools.product(iterable1, iterable2, iterable3)\n",
    "print(list(a))\n"
   ]
  },
  {
   "cell_type": "code",
   "execution_count": null,
   "metadata": {},
   "outputs": [],
   "source": [
    "def solution(mylist):\n",
    "    answer = []\n",
    "    for i in mylist:\n",
    "        answer += i\n",
    "        print(i)\n",
    "    return answer\n",
    "\n",
    "my = [[1],[2,3],[3]]\n",
    "print(solution(my))"
   ]
  },
  {
   "cell_type": "code",
   "execution_count": null,
   "metadata": {},
   "outputs": [],
   "source": [
    "a = [[10, 20], [30, 40], [50, 60]]\n",
    "for x, y in a:    # 리스트의 가로 한 줄(안쪽 리스트)에서 요소 두 개를 꺼냄\n",
    "    print(x, y)"
   ]
  },
  {
   "cell_type": "code",
   "execution_count": null,
   "metadata": {},
   "outputs": [],
   "source": [
    "from itertools import permutations\n",
    "def solution(mylist):\n",
    "    result = permutations(mylist,2)\n",
    "    return sorted(result)\n",
    "my = [2,1]\n",
    "print(list(solution(my)))"
   ]
  },
  {
   "cell_type": "code",
   "execution_count": null,
   "metadata": {},
   "outputs": [],
   "source": [
    "import itertools\n",
    "def solution(mylist):\n",
    "    result = itertools.permutations(mylist,2)\n",
    "    return result\n",
    "my = [2,1]\n",
    "my.sort()\n",
    "print(list(solution(my)))"
   ]
  },
  {
   "cell_type": "code",
   "execution_count": null,
   "metadata": {
    "tags": []
   },
   "outputs": [],
   "source": [
    "import itertools\n",
    "a = [1,2,3]\n",
    "pool = ['A', 'B', 'C']\n",
    "print(list(map(''.join, itertools.permutations(pool)))) # 3개의 원소로 수열 만들기\n",
    "print(list(map(str, itertools.permutations(a)))) # 3개의 원소로 수열 만들기\n",
    "print(list(map(''.join, itertools.permutations(pool, 2)))) # 2개의 원소로 수열 만들기"
   ]
  },
  {
   "cell_type": "code",
   "execution_count": null,
   "metadata": {},
   "outputs": [],
   "source": [
    "num_list = [-1, 0, 1, 3, 4, 5, 9]\n",
    "\n",
    "print('원래값: ',num_list)\n",
    "# [-1, 0, 1, 3, 4, 5, 9]\n",
    "a = (\" \".join(map(str, num_list)))\n",
    "print('리스트화: ',a.strip().split(' '))\n",
    "# -1 0 1 3 4 5 9\n",
    "print('문자열화: ',''.join(a))\n",
    "print(a.split(maxsplit=0))\n",
    "print(a.split('  '))"
   ]
  },
  {
   "cell_type": "code",
   "execution_count": null,
   "metadata": {},
   "outputs": [],
   "source": [
    "# 가장 많이 등장하는 알파벳 찾기\n",
    "from collections import Counter\n",
    "my_str = input().strip()\n",
    "bang = Counter(my_str).most_common()\n",
    "result = ''\n",
    "for i in range(len(bang)):\n",
    "    if bang[i][1] == bang[0][1]:\n",
    "        result += bang[i][0]\n",
    "print(''.join(sorted(result)))\n",
    "\n"
   ]
  },
  {
   "cell_type": "code",
   "execution_count": 165,
   "metadata": {},
   "outputs": [
    {
     "output_type": "stream",
     "name": "stdout",
     "text": [
      "[4, 36]\n"
     ]
    }
   ],
   "source": [
    "def solution(mylist):\n",
    "    answer = []\n",
    "    for i in range(len(mylist)):\n",
    "        if mylist[i] % 2 == 0:\n",
    "            answer.append(mylist[i]**2)\n",
    "    return answer\n",
    "mat = [3,2,6,7]\n",
    "print(solution(mat))"
   ]
  },
  {
   "cell_type": "code",
   "execution_count": 177,
   "metadata": {},
   "outputs": [
    {
     "output_type": "stream",
     "name": "stdout",
     "text": [
      "[4, 36]\n"
     ]
    }
   ],
   "source": [
    "def solution(mylist):\n",
    "    answer = []\n",
    "    for i in range(len(mylist)):\n",
    "        if mylist[i] % 2 == 0:\n",
    "            answer += [mylist[i]**2]\n",
    "    return answer\n",
    "mat = [3,2,6,7]\n",
    "print(solution(mat))"
   ]
  },
  {
   "cell_type": "code",
   "execution_count": 1,
   "metadata": {},
   "outputs": [
    {
     "output_type": "stream",
     "name": "stdout",
     "text": [
      "[4, 36]\n"
     ]
    }
   ],
   "source": [
    "# 리스트 컴프리핸션\n",
    "def solution(mylist):\n",
    "    # answer = [mylist[i]**2 for i in range(len(mylist)) if mylist[i] % 2 == 0]\n",
    "    answer = [i**2 for i in mylist if i %2 == 0]\n",
    "    return answer\n",
    "mat = [3,2,6,7]\n",
    "print(solution(mat)) "
   ]
  }
 ]
}