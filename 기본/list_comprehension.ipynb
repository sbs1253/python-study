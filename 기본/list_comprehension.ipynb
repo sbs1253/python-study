{
 "metadata": {
  "language_info": {
   "codemirror_mode": {
    "name": "ipython",
    "version": 3
   },
   "file_extension": ".py",
   "mimetype": "text/x-python",
   "name": "python",
   "nbconvert_exporter": "python",
   "pygments_lexer": "ipython3",
   "version": "3.8.5"
  },
  "orig_nbformat": 2,
  "kernelspec": {
   "name": "python3",
   "display_name": "Python 3.8.5 64-bit ('base': conda)",
   "metadata": {
    "interpreter": {
     "hash": "1578812f95202d9a7ab4fd33b966cef6a7ec8aa7d26bc2e841d5545dff53eaba"
    }
   }
  }
 },
 "nbformat": 4,
 "nbformat_minor": 2,
 "cells": [
  {
   "cell_type": "code",
   "execution_count": null,
   "metadata": {},
   "outputs": [],
   "source": [
    "''' 2차원 리스트 1차원 리스트로 바꾸기 ''' \n",
    "def solution(mylist):\n",
    "    answer = []\n",
    "    for i in mylist:\n",
    "        answer += i\n",
    "    return answer\n",
    "\n",
    "my = [[1],[2,3],[3]]\n",
    "print(solution(my))"
   ]
  },
  {
   "cell_type": "code",
   "execution_count": null,
   "metadata": {},
   "outputs": [],
   "source": [
    "mylist = [['A', 'B'], ['X', 'Y'], ['1']]\n",
    "\n",
    "def solution(mylist):\n",
    "    answer = []\n",
    "\n",
    "    for arr in mylist:\n",
    "        for j in range(len(arr)):\n",
    "            answer.append(arr[j])\n",
    "\n",
    "    return answer\n",
    "\n",
    "print (solution(mylist))"
   ]
  },
  {
   "cell_type": "code",
   "execution_count": null,
   "metadata": {},
   "outputs": [],
   "source": [
    "# sum 함수 사용\n",
    "my_list = [[1, 2], [3, 4], [5, 6]]\n",
    "\n",
    "print (sum(my_list, []))"
   ]
  },
  {
   "cell_type": "code",
   "execution_count": null,
   "metadata": {},
   "outputs": [],
   "source": [
    "# itertools.chain 사용\n",
    "import itertools\n",
    "\n",
    "my_list = [[1, 2], [3, 4], [5, 6]]\n",
    "\n",
    "print(list(itertools.chain.from_iterable(my_list)))"
   ]
  },
  {
   "cell_type": "code",
   "execution_count": null,
   "metadata": {},
   "outputs": [],
   "source": [
    "# itertools 와 unpacking 사용\n",
    "import itertools\n",
    "\n",
    "my_list = [[1, 2], [3, 4], [5, 6]]\n",
    "\n",
    "print (list(itertools.chain(*my_list)))"
   ]
  },
  {
   "cell_type": "code",
   "execution_count": null,
   "metadata": {},
   "outputs": [],
   "source": [
    "# list comprehension 사용\n",
    "my_list = [[1, 2], [3, 4], [5, 6]]\n",
    "\n",
    "print ([element for array in my_list for element in array])\n"
   ]
  },
  {
   "cell_type": "code",
   "execution_count": null,
   "metadata": {},
   "outputs": [],
   "source": [
    "# reduce 함수 이용 1\n",
    "from functools import reduce\n",
    "import operator\n",
    "\n",
    "my_list = [[1, 2], [3, 4], [5, 6]]\n",
    "\n",
    "print (list(reduce(operator.add, my_list)))\n"
   ]
  },
  {
   "cell_type": "code",
   "execution_count": null,
   "metadata": {},
   "outputs": [],
   "source": [
    "# reduce 함수 이용 2\n",
    "\n",
    "from functools import reduce\n",
    "\n",
    "my_list = [[1, 2], [3, 4], [5, 6]]\n",
    "\n",
    "print (list(reduce(lambda x, y: x+y, my_list)))"
   ]
  },
  {
   "cell_type": "code",
   "execution_count": null,
   "metadata": {},
   "outputs": [],
   "source": [
    "# numpy 라이브러리의 flatten 이용 단. 각 원소의 길이가 동일한 경우에만 사용 가능\n",
    "import numpy as np\n",
    "\n",
    "my_list = [[1, 2], [3, 4], [5, 6]]\n",
    "\n",
    "print (np.array(my_list).flatten().tolist())"
   ]
  }
 ]
}