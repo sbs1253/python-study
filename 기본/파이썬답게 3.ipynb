{
 "metadata": {
  "language_info": {
   "codemirror_mode": {
    "name": "ipython",
    "version": 3
   },
   "file_extension": ".py",
   "mimetype": "text/x-python",
   "name": "python",
   "nbconvert_exporter": "python",
   "pygments_lexer": "ipython3",
   "version": "3.8.5-final"
  },
  "orig_nbformat": 2,
  "kernelspec": {
   "name": "python3",
   "display_name": "Python 3",
   "language": "python"
  }
 },
 "nbformat": 4,
 "nbformat_minor": 2,
 "cells": [
  {
   "cell_type": "code",
   "execution_count": null,
   "metadata": {},
   "outputs": [],
   "source": [
    "from math import sqrt\n",
    "a = list(map(int,input()))\n",
    "vvs = 1\n",
    "for i in a:\n",
    "    vvs *= i\n",
    "    print(vvs)\n",
    "    if vvs**0.5 ==int(vvs**0.5):\n",
    "        print('found')\n",
    "        break\n",
    "else:\n",
    "    print('not found')"
   ]
  },
  {
   "cell_type": "code",
   "execution_count": null,
   "metadata": {},
   "outputs": [],
   "source": [
    "import math\n",
    "\n",
    "numbers = [int(input()) for _ in range(5)]\n",
    "multiplied = 1\n",
    "flag = True\n",
    "for number in numbers:\n",
    "    multiplied *= number\n",
    "    print(multiplied)\n",
    "    if math.sqrt(multiplied) == int(math.sqrt(multiplied)):\n",
    "        flag = False\n",
    "        print('found')\n",
    "        break\n",
    "\n",
    "if flag:\n",
    "    print('not found')"
   ]
  },
  {
   "cell_type": "code",
   "execution_count": null,
   "metadata": {},
   "outputs": [],
   "source": [
    "bucket = ['딸기','당근', '수박', '참외', '메론']\n",
    "for fruit in bucket:\n",
    "    if fruit == '딸기':\n",
    "        print('딸기가 바구니에 있습니다!')\n",
    "        break\n",
    "    else:\n",
    "        print('바구니엔 딸기가 없군요.')"
   ]
  },
  {
   "cell_type": "code",
   "execution_count": null,
   "metadata": {},
   "outputs": [],
   "source": [
    "for i in range(2, 11):\n",
    "    for j in range(2, 3):\n",
    "        if i % j == 0:\n",
    "            print(f'{i}는 {j}의 배수다.')\n",
    "            break\n",
    "        else:\n",
    "            print(f'{i}는 소수다.')"
   ]
  },
  {
   "cell_type": "code",
   "execution_count": null,
   "metadata": {},
   "outputs": [],
   "source": [
    "data = [2, 4, 5, 1, 3]\n",
    "for i in data:\n",
    "    print(i)\n",
    "    if i > 10:\n",
    "        print('10보다 큼')\n",
    "        break\n",
    "else:\n",
    "\tprint('10 보다 큰 수 없음')"
   ]
  },
  {
   "cell_type": "code",
   "execution_count": null,
   "metadata": {},
   "outputs": [],
   "source": [
    "from bisect import bisect_left, bisect_right\n",
    "\n",
    "nums = [0,1,2,3,4,5,6,7,8,9]\n",
    "n = 5\n",
    "\n",
    "print(bisect_left(nums, n))\n",
    "print(bisect_right(nums, n))\n",
    "\n",
    "'''\n",
    "결과값\n",
    "5\n",
    "6\n",
    "'''"
   ]
  },
  {
   "cell_type": "code",
   "execution_count": 2,
   "metadata": {},
   "outputs": [
    {
     "output_type": "stream",
     "name": "stdout",
     "text": [
      "(1, 2)\n(1, 2)\n"
     ]
    }
   ],
   "source": [
    "class Coord(object):\n",
    "    def __init__ (self, x, y):\n",
    "        self.x, self.y = x, y\n",
    "\n",
    "point = Coord(1, 2)\n",
    "print( '({}, {})'.format(point.x, point.y) )\n",
    "\n",
    "def print_coord(coord):\n",
    "    print( '({}, {})'.format(coord.x, coord.y) )\n",
    "print_coord(point)\n"
   ]
  },
  {
   "cell_type": "code",
   "execution_count": 6,
   "metadata": {},
   "outputs": [
    {
     "output_type": "stream",
     "name": "stdout",
     "text": [
      "(1, 2)\n"
     ]
    }
   ],
   "source": [
    "class Coord(object):\n",
    "    def __init__ (self, x, y):\n",
    "        self.x, self.y = x, y\n",
    "    def __str__ (self):\n",
    "        return '({}, {})'.format(self.x, self.y)\n",
    "\n",
    "point = Coord(1, 2)\n",
    "print(point)"
   ]
  },
  {
   "cell_type": "code",
   "execution_count": 10,
   "metadata": {},
   "outputs": [
    {
     "output_type": "stream",
     "name": "stdout",
     "text": [
      "-inf\n"
     ]
    }
   ],
   "source": [
    "min_val = float('inf')\n",
    "min_val > 100000000000\n",
    "max_val = float('-inf')\n",
    "max_val < -100000000\n",
    "print(max_val)"
   ]
  }
 ]
}