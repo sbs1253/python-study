{
 "metadata": {
  "language_info": {
   "codemirror_mode": {
    "name": "ipython",
    "version": 3
   },
   "file_extension": ".py",
   "mimetype": "text/x-python",
   "name": "python",
   "nbconvert_exporter": "python",
   "pygments_lexer": "ipython3",
   "version": "3.8.5-final"
  },
  "orig_nbformat": 2,
  "kernelspec": {
   "name": "python3",
   "display_name": "Python 3",
   "language": "python"
  }
 },
 "nbformat": 4,
 "nbformat_minor": 2,
 "cells": [
  {
   "cell_type": "code",
   "execution_count": 1,
   "metadata": {},
   "outputs": [
    {
     "output_type": "stream",
     "name": "stdout",
     "text": [
      "[2, 2, 1, 1, 1]\n"
     ]
    }
   ],
   "source": [
    "C = [[3,4],[2,1],[4],[5],[6]]\n",
    "def solution(mylist):\n",
    "    return list(map(len, mylist))\n",
    "print(solution(C))"
   ]
  },
  {
   "cell_type": "code",
   "execution_count": null,
   "metadata": {},
   "outputs": [],
   "source": [
    "C = [[3,4],[2,1],[4],[5],[6]]\n",
    "def solution(mylist):\n",
    "    for i in range(len(mylist)):\n",
    "        B = len(mylist[i])\n",
    "        C.append(B)\n",
    "    answer = C\n",
    "    return answer\n",
    "\n",
    "print(solution(C))"
   ]
  },
  {
   "cell_type": "code",
   "execution_count": null,
   "metadata": {},
   "outputs": [],
   "source": [
    "def solution(mylist):  \n",
    "    b = []\n",
    "    for i in range(len(mylist)):\n",
    "        b.append(len(mylist[i]))\n",
    "    return b\n",
    "my = [[3,4],[2],[3]]\n",
    "print(solution(my))\n"
   ]
  },
  {
   "cell_type": "code",
   "execution_count": null,
   "metadata": {},
   "outputs": [],
   "source": [
    "def solution(mylist):\n",
    "    answer = []\n",
    "    for i in mylist:\n",
    "        answer.append(len(i))\n",
    "    return answer\n",
    "print(solution([[1,2],[1],[1,2,3]]))"
   ]
  },
  {
   "cell_type": "code",
   "execution_count": null,
   "metadata": {},
   "outputs": [],
   "source": [
    "ap = [[1]]\n",
    "answer = []\n",
    "for i in ap:\n",
    "    answer.append(i)\n",
    "    print(i)"
   ]
  },
  {
   "cell_type": "code",
   "execution_count": null,
   "metadata": {},
   "outputs": [],
   "source": [
    "a, b = map(int, input().strip().split(' '))\n",
    "print(a // b, a % b)"
   ]
  },
  {
   "cell_type": "code",
   "execution_count": null,
   "metadata": {},
   "outputs": [],
   "source": [
    "# 큰 숫자를 다룰때에는 위의 식보다 빠름\n",
    "a = 7\n",
    "b = 5\n",
    "\n",
    "print(*divmod(a, b))"
   ]
  },
  {
   "cell_type": "code",
   "execution_count": 9,
   "metadata": {},
   "outputs": [
    {
     "output_type": "stream",
     "name": "stdout",
     "text": [
      "0 0 0\n5 1 1\n30 2 1\n405 3 3\n1030 4 1\n"
     ]
    }
   ],
   "source": [
    "num, base = map(int, input().strip().split(' '))\n",
    "result = 0 \n",
    "for idx, i in enumerate(str(num)[::-1]):\n",
    "    result += int(i) * ( base ** idx )\n",
    "    print(result,idx,i)\n"
   ]
  },
  {
   "cell_type": "code",
   "execution_count": 8,
   "metadata": {},
   "outputs": [
    {
     "output_type": "stream",
     "name": "stdout",
     "text": [
      "140\n101\n2진수: 0b111100, 8진수: 0o74, 10진수: 60, 16진수: 0x3c\n"
     ]
    }
   ],
   "source": [
    "num = '1030'\n",
    "base = 5\n",
    "answer = int(num, base) \n",
    "print(answer)\n",
    "result = format(base, 'b')\n",
    "print(result)\n",
    "s = \"2진수: {0:#b}, 8진수: {0:#o}, 10진수: {0:#d}, 16진수: {0:#x}\".format(60)\n",
    "print(s)\n"
   ]
  },
  {
   "cell_type": "code",
   "execution_count": null,
   "metadata": {},
   "outputs": [],
   "source": [
    "s, n = input().strip().split(' ')\n",
    "print(s.ljust(int(n)))\n",
    "print(s.center(int(n),' '))\n",
    "print(s.rjust(int(n)))"
   ]
  },
  {
   "cell_type": "code",
   "execution_count": null,
   "metadata": {},
   "outputs": [],
   "source": [
    "### 우측 정렬 예\n",
    "s = '가나다라'\n",
    "n = 7\n",
    "\n",
    "answer = ''\n",
    "for i in range(n-len(s)): # 문자열의 앞을 빈 문자열로 채우는 for 문\n",
    "    answer += ' '\n",
    "answer += s\n",
    "print(answer)"
   ]
  },
  {
   "cell_type": "code",
   "execution_count": null,
   "metadata": {},
   "outputs": [],
   "source": [
    "import string\n",
    "num = int(input().strip())\n",
    "\n",
    "if num == 0:\n",
    "    print(string.ascii_lowercase)\n",
    "else:\n",
    "    print(string.ascii_uppercase)\n",
    "\n",
    "'''\n",
    "string.ascii_lowercase # 소문자 abcdefghijklmnopqrstuvwxyz\n",
    "string.ascii_uppercase # 대문자 ABCDEFGHIJKLMNOPQRSTUVWXYZ\n",
    "string.ascii_letters #대소문자 모두 abcdefghijklmnopqrstuvwxyzABCDEFGHIJKLMNOPQRSTUVWXYZ\n",
    "string.digits # 숫자 0123456789\n",
    "'''"
   ]
  },
  {
   "cell_type": "code",
   "execution_count": null,
   "metadata": {},
   "outputs": [],
   "source": [
    "a1 = [6, 3, 9]\n",
    "print('a1:', a1)\n",
    "a2 = a1.sort() # 원본을 정렬하고 수정합니다(in-place)\n",
    "print('-----정렬 후-----')\n",
    "print('a1:', a1)\n",
    "print('a2:', a2)\n",
    "\n",
    "print('')\n",
    "\n",
    "b1 = [6, 3, 9]\n",
    "print('b1:', b1)\n",
    "b2 = sorted(b1) # 원본은 유지하고 정렬한 새 리스트를 만듭니다\n",
    "print('-----정렬 후-----')\n",
    "print('b1:', b1)\n",
    "print('b2:', b2)"
   ]
  },
  {
   "cell_type": "code",
   "execution_count": 7,
   "metadata": {},
   "outputs": [
    {
     "output_type": "stream",
     "name": "stdout",
     "text": [
      "변환 값: 13110(5)\n"
     ]
    }
   ],
   "source": [
    "number = int(input(\"숫자를 입력하세요: \"))\n",
    "n = int(input(\"변환할 진수를 입력하세요: \"))\n",
    "\n",
    "answer = \"\"\n",
    "\n",
    "while number // n >= 1:\n",
    "    remain = number % n\n",
    "    number = number // n\n",
    "    answer = str(remain) + answer\n",
    "    if number < n :\n",
    "        answer = str(number) + answer\n",
    "\n",
    "print(\"변환 값: %s(%s)\" % (answer, n))"
   ]
  }
 ]
}