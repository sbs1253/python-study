{
 "metadata": {
  "language_info": {
   "codemirror_mode": {
    "name": "ipython",
    "version": 3
   },
   "file_extension": ".py",
   "mimetype": "text/x-python",
   "name": "python",
   "nbconvert_exporter": "python",
   "pygments_lexer": "ipython3",
   "version": "3.9.2"
  },
  "orig_nbformat": 2,
  "kernelspec": {
   "name": "python3",
   "display_name": "Python 3.9.2 64-bit"
  },
  "metadata": {
   "interpreter": {
    "hash": "2870f441564b174e5e54d5f9d2df40ea92afaf213a8c340e807e5d30c8c5da2b"
   }
  },
  "interpreter": {
   "hash": "2870f441564b174e5e54d5f9d2df40ea92afaf213a8c340e807e5d30c8c5da2b"
  }
 },
 "nbformat": 4,
 "nbformat_minor": 2,
 "cells": [
  {
   "cell_type": "code",
   "execution_count": 4,
   "metadata": {},
   "outputs": [
    {
     "output_type": "stream",
     "name": "stdout",
     "text": [
      "010 1111 2222\n010-1111-2222\nkr\nkr\n"
     ]
    }
   ],
   "source": [
    "# 문자열은 수정불가하므로 치환\n",
    "phone_number = '010-1111-2222'\n",
    "# phone_number = \"1\"\n",
    "print(phone_number.replace(\"-\", \" \"))\n",
    "print(phone_number)\n",
    "\n",
    "url = \"http://sharebook.kr\"\n",
    "print(url[-2:])\n",
    "print(url.split(\".\")[-1])\n",
    "\n",
    "\n"
   ]
  },
  {
   "cell_type": "code",
   "execution_count": null,
   "metadata": {},
   "outputs": [],
   "source": [
    "list1 = [1, 2, 3]\n",
    "list2 = [1, 2, 3]\n",
    "\n",
    "if list1 is list1:\n",
    "    print(\"당연히 list1과 list1은 같은 인스턴스입니다.\")\n",
    "\n",
    "if list1 == list2:\n",
    "    print(\"list1과 list2의 값은 같습니다.\")\n",
    "    if list1 is list2:\n",
    "        print(\"그리고 list1과 list2는 같은 인스턴스입니다.\")\n",
    "    else:\n",
    "        print(\"하지만 list1과 list2는 다른 인스턴스입니다.\")"
   ]
  },
  {
   "cell_type": "code",
   "execution_count": 1,
   "metadata": {},
   "outputs": [
    {
     "output_type": "stream",
     "name": "stdout",
     "text": [
      "한국어\n"
     ]
    }
   ],
   "source": [
    "class Human():\n",
    "    '''사람'''\n",
    "\n",
    "person1 = Human()\n",
    "person2 = Human()\n",
    "\n",
    "person1.language = '한국어'\n",
    "person2.language = 'English'\n",
    "\n",
    "print(person1.language)"
   ]
  },
  {
   "cell_type": "code",
   "execution_count": null,
   "metadata": {},
   "outputs": [],
   "source": [
    "isinstance(5,str)"
   ]
  },
  {
   "cell_type": "code",
   "execution_count": null,
   "metadata": {},
   "outputs": [],
   "source": [
    "class Human( ):\n",
    "    '''인간'''\n",
    "def create_humen( name, weight ): # 다음 강의에서 자세히 설명\n",
    "    person = Human()\n",
    "    person.name = name\n",
    "    person.weight = weight\n",
    "    return person\n",
    "Human.create = create_humen\n",
    "\n",
    "def eat( self ):\n",
    "    self.weight += 0.1\n",
    "    print(\"{}가 먹어서 {}kg이 되었습니다\".format(self.name, self.weight))\n",
    "\n",
    "def walk( self ):\n",
    "    self.weight -= 0.1\n",
    "    print(\"{}가 걸어서 {}kg이 되었습니다\".format(self.name, self.weight))\n",
    "\n",
    "Human.eat = eat\n",
    "Human.walk = walk\n",
    "\n",
    "person = Human.create( '철수', 60 )\n",
    "eat(person)\n",
    "person.walk()\n",
    "person.eat()\n",
    "type(person)"
   ]
  },
  {
   "cell_type": "code",
   "execution_count": null,
   "metadata": {},
   "outputs": [],
   "source": [
    "class Car():\n",
    "    '''자동차'''\n",
    "    def run(self):\n",
    "        print(\"{}가 달립니다.\".format(self.name))\n",
    "\n",
    "taxi = Car()\n",
    "taxi.name = \"택시\"\n",
    "taxi.run()\n",
    "\n",
    "''' 이상태에서 위와 같은 결과가 나오기위해서 어떻게 해야하는지?\n",
    "class Car():\n",
    "    ''''자동차''''\n",
    "def run(self):\n",
    "    print(\"{}가 달립니다.\".format(self.name))\n",
    "\n",
    "taxi = Car()\n",
    "taxi.name = \"택시\"\n",
    "taxi.run()\n",
    "''' \n"
   ]
  },
  {
   "cell_type": "code",
   "execution_count": null,
   "metadata": {},
   "outputs": [],
   "source": [
    "class Human( ):\n",
    "    '''인간'''\n",
    "\n",
    "    def create( name, weight ): # 다음 강의에서 자세히 설명\n",
    "        person = Human()\n",
    "        person.name = name\n",
    "        person.weight = weight\n",
    "        return person \n",
    "\n",
    "    def eat( self ):\n",
    "        self.weight += 0.1\n",
    "        print(\"{}가 먹어서 {}kg이 되었습니다\".format(self.name, self.weight))\n",
    "\n",
    "    def walk( self ):\n",
    "        self.weight -= 0.1\n",
    "        print(\"{}가 걸어서 {}kg이 되었습니다\".format(self.name, self.weight))\n",
    "    def speak(self,message):\n",
    "        print(message)\n",
    "person = Human.create(\"철수\", 60.5)\n",
    "person.eat()\n",
    "person.speak('반갑습니다.')\n"
   ]
  },
  {
   "cell_type": "code",
   "execution_count": null,
   "metadata": {},
   "outputs": [],
   "source": [
    "class Human( ):\n",
    "    '''인간'''\n",
    "    def __init__( self, name, weight ):  # 무조건 실행되는 함수 \n",
    "        '''초기화 함수'''\n",
    "        self.name = name\n",
    "        self.weight = weight\n",
    "\n",
    "    def __str__( self ): # 인스턴스 자체를 출력할 때의 형식을 지정해주는 함수\n",
    "        '''문자열화 함수'''\n",
    "        return \"{} ( 몸무게 {}kg )\".format( self.name, self.weight )\n",
    "\n",
    "person = Human( \"사람\", 60.5 ) # 초기화 함수 사용\n",
    "print('입력확인 : ', person.name, person.weight, sep=',')\n",
    "print( person ) # 문자열화 함수 사용"
   ]
  },
  {
   "cell_type": "code",
   "execution_count": null,
   "metadata": {},
   "outputs": [],
   "source": [
    "class Animal( ):\n",
    "    def walk( self ):\n",
    "        print( \"걷는다\" )\n",
    "\n",
    "    def eat( self ):\n",
    "        print( \"먹는다\" )\n",
    "\n",
    "class Human( Animal ):\n",
    "    def wave( self ):\n",
    "        print( \"손을 흔든다\" )\n",
    "\n",
    "class Dog( Animal ):\n",
    "    def wag( self ):\n",
    "        print( \"꼬리를 흔든다\" )\n",
    "\n",
    "person = Human()\n",
    "person.walk()\n",
    "person.eat()\n",
    "person.wave()\n",
    "\n",
    "dog = Dog()\n",
    "dog.walk()\n",
    "dog.eat()\n",
    "dog.wag()"
   ]
  },
  {
   "cell_type": "code",
   "execution_count": null,
   "metadata": {},
   "outputs": [],
   "source": [
    "class Animal( ):\n",
    "    def __init__( self, name ):\n",
    "        self.name = name\n",
    "    def greet(self):\n",
    "        print(\"{}이 인사한다.\".format(self.name))\n",
    "\n",
    "class Human( Animal ):\n",
    "    def __init__( self, name, hand ):\n",
    "        super().__init__( name ) # 부모클래스의 __init__ 메소드 호출\n",
    "        self.hand = hand\n",
    "    \n",
    "    def wave(self):\n",
    "        print('{}을 흔들면서'.format(self.hand))\n",
    "\n",
    "    def greet(self):\n",
    "        self.wave()\n",
    "        super().greet()\n",
    "\n",
    "person = Human( \"사람\", \"오른손\" )\n",
    "person.greet()\n"
   ]
  },
  {
   "cell_type": "code",
   "execution_count": null,
   "metadata": {},
   "outputs": [],
   "source": [
    "table = str.maketrans('aeiou', '12345')\n",
    "'apple'.translate(table)\n"
   ]
  },
  {
   "cell_type": "code",
   "execution_count": null,
   "metadata": {},
   "outputs": [],
   "source": [
    "class Car():\n",
    "    \n",
    "    def __init__(self, name):\n",
    "        self.name = name\n",
    "    \n",
    "    def run(self):\n",
    "        print(\"차가 달립니다.\")\n",
    "\n",
    "\n",
    "class Truck(Car):\n",
    "    # 이 아래에서 __init__ 메소드를 오버라이드 하세요.\n",
    "    def __init__(self,name,capacity):\n",
    "        super().__init__(name)\n",
    "        self.capacity = capacity\n",
    "        \n",
    "    def load(self):\n",
    "        print(\"짐을 실었습니다.\")"
   ]
  },
  {
   "cell_type": "code",
   "execution_count": null,
   "metadata": {},
   "outputs": [],
   "source": [
    "value = '가'\n",
    "\n",
    "try:\n",
    "    if value not in ['가위','바위','보']:\n",
    "        raise ValueError('가위바위보 중에 하나의 값이어야 합니다.')\n",
    "except ValueError:\n",
    "        print('에러가 발생했습니다.')\n",
    "\n",
    "''' 사용자 에러를 만들면 에러가 겹치는 상황이 안나오게됨 '''"
   ]
  },
  {
   "cell_type": "code",
   "execution_count": null,
   "metadata": {},
   "outputs": [],
   "source": [
    "def div(a, b):\n",
    "    try:\n",
    "        result = a / b\n",
    "        return result\n",
    "    except Exception as e:\n",
    "        print(e)\n",
    "\n",
    "div(10,0)"
   ]
  },
  {
   "cell_type": "code",
   "execution_count": null,
   "metadata": {},
   "outputs": [],
   "source": [
    "areas = []\n",
    "for i in range(1,11):\n",
    "    areas += [i*i]\n",
    "print('areas = ',areas)\n",
    "\n",
    "areas2 = [ i*i for i in range(1,11)]\n",
    "print('areas2 = ', areas2)\n",
    "\n",
    "areas3 = [ i*i for i in range(1,11) if i % 2 == 0]\n",
    "print('areas3 = ', areas3)\n",
    "\n",
    "areas4 = [(x,y) for x in range (1,16) for y in range(1,16)]\n",
    "print( [areas4] )"
   ]
  },
  {
   "cell_type": "code",
   "execution_count": null,
   "metadata": {},
   "outputs": [],
   "source": [
    "students = ['태연', '하늘', '진구', '웅이', '빛나']\n",
    "for number , name in enumerate(students):\n",
    "    print('{}번의 이름은 {}입니다.'.format(number+1,name))\n",
    "\n",
    "students_dict = { '{}번'.format(number + 1): name for number , name in enumerate(students)}\n",
    "print('\\n',students_dict,\"\\n\")\n",
    "\n",
    "scores = [85,92,78,90,100]\n",
    "for x, y in zip(students, scores):\n",
    "    print(x,y)\n",
    "\n",
    "scores_dic = {student : score for student , score in zip(students, scores)}\n",
    "print(scores_dic)"
   ]
  },
  {
   "cell_type": "code",
   "execution_count": 158,
   "metadata": {},
   "outputs": [
    {
     "output_type": "stream",
     "name": "stdout",
     "text": [
      "[2, 1, 1]\n"
     ]
    }
   ],
   "source": [
    "def solution(mylist):  \n",
    "    b = []\n",
    "    for i in range(len(mylist)):\n",
    "        b.append(len(mylist[i]))\n",
    "    return b\n",
    "my = [[3,4],[2],[3]]\n",
    "print(solution(my))\n"
   ]
  },
  {
   "cell_type": "code",
   "execution_count": null,
   "metadata": {},
   "outputs": [],
   "source": [
    "C = [[3,4],[2,1],[4],[5],[6]]\n",
    "def solution(mylist):\n",
    "    for i in range(len(mylist)):\n",
    "        B = len(mylist[i])\n",
    "        C.append(B)\n",
    "    answer = C\n",
    "    return answer\n",
    "\n",
    "print(solution(C))"
   ]
  },
  {
   "cell_type": "code",
   "execution_count": null,
   "metadata": {},
   "outputs": [],
   "source": [
    "C = [[3,4],[2,1],[4],[5],[6]]\n",
    "def solution(mylist):\n",
    "    return list(map(len, mylist))\n",
    "print(solution(C))"
   ]
  }
 ]
}