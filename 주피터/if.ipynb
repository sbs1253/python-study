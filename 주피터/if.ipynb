{
 "metadata": {
  "language_info": {
   "codemirror_mode": {
    "name": "ipython",
    "version": 3
   },
   "file_extension": ".py",
   "mimetype": "text/x-python",
   "name": "python",
   "nbconvert_exporter": "python",
   "pygments_lexer": "ipython3",
   "version": "3.8.5-final"
  },
  "orig_nbformat": 2,
  "kernelspec": {
   "name": "python3",
   "display_name": "Python 3",
   "language": "python"
  }
 },
 "nbformat": 4,
 "nbformat_minor": 2,
 "cells": [
  {
   "cell_type": "code",
   "execution_count": null,
   "metadata": {},
   "outputs": [],
   "source": [
    "name = input('이름을 입력해!')\n",
    "if name == '아무개':\n",
    "    print('니가 아무개니?')\n",
    "elif name != '아무개':\n",
    "    print('아니네')"
   ]
  },
  {
   "cell_type": "code",
   "execution_count": null,
   "metadata": {
    "tags": []
   },
   "outputs": [],
   "source": [
    "count = 0\n",
    "while count < 3:\n",
    "    print('횟수: ', count)\n",
    "    count += 1"
   ]
  },
  {
   "cell_type": "code",
   "execution_count": null,
   "metadata": {},
   "outputs": [],
   "source": [
    "# conrinue = 다시 조건으로 돌아감\n",
    "# break = 반복문을 끝냄\n",
    "count = 0\n",
    "while count < 10:\n",
    "    count += 1\n",
    "    print('count를 올려볼까',count)\n",
    "    if count < 4:\n",
    "        print('조건 미달이다')\n",
    "        continue\n",
    "    if count == 8:\n",
    "        print('조건 만족이다.')\n",
    "        break\n",
    "print(count)"
   ]
  },
  {
   "source": [
    "my_dict={'학생1':'감자'}\n",
    "my_dict['학생2']='샤오롱'\n",
    "my_dict['학생3']='감자'\n",
    "''' 지우는 법\n",
    "my_dict.pop('학생') \n",
    "del my_dict[1]\n",
    "'''\n",
    "my_dict"
   ],
   "cell_type": "code",
   "metadata": {},
   "execution_count": null,
   "outputs": []
  },
  {
   "cell_type": "code",
   "execution_count": null,
   "metadata": {},
   "outputs": [],
   "source": [
    "for std in my_dict.values():\n",
    "    print(std)\n",
    "print(\"\")\n",
    "for str in my_dict.keys():\n",
    "    print(str)\n",
    "print(\"\")\n",
    "for key,val in my_dict.items():\n",
    "    print(key,\":\",val)"
   ]
  },
  {
   "cell_type": "code",
   "execution_count": null,
   "metadata": {},
   "outputs": [],
   "source": [
    "def mat():\n",
    "    one = 3 * 2\n",
    "    return one\n",
    "one = 3\n",
    "two = 2\n",
    "total = mat()\n",
    "print(total)\n",
    "one"
   ]
  },
  {
   "cell_type": "code",
   "execution_count": null,
   "metadata": {},
   "outputs": [],
   "source": [
    "def add_mul(num1,num2):\n",
    "    return num1 + num2, num1 * num2\n",
    "\n",
    "add_mul(2,3)\n",
    "# 한개의 튜플을 던져줌"
   ]
  },
  {
   "cell_type": "code",
   "execution_count": null,
   "metadata": {},
   "outputs": [],
   "source": [
    "import random\n",
    "students = ['all','text','lol','wow','very','good']\n",
    "print(random.choice(students))\n",
    "print(random.sample(students,2))\n",
    "print(random.sample(range(10),2))\n",
    "print(random.randint(0,10))"
   ]
  },
  {
   "cell_type": "code",
   "execution_count": null,
   "metadata": {},
   "outputs": [],
   "source": [
    "# object\n",
    "class Ventilation\n"
   ]
  },
  {
   "cell_type": "code",
   "execution_count": null,
   "metadata": {},
   "outputs": [],
   "source": [
    "import datetime as dat\n",
    "a = [dat.date.today()]\n",
    "print(a)\n",
    "print(dat.datetime.now())"
   ]
  },
  {
   "cell_type": "code",
   "execution_count": null,
   "metadata": {},
   "outputs": [],
   "source": [
    "def add(a,b):\n",
    "    return one+two # 이건 안됨\n",
    "c = 6\n",
    "b = 2\n",
    "print(add(c,b))"
   ]
  },
  {
   "cell_type": "code",
   "execution_count": null,
   "metadata": {},
   "outputs": [],
   "source": [
    "def print_round(number):    # 함수의 정의\n",
    "    rounded = round(number)\n",
    "    print(rounded)  \n",
    "\n",
    "print_round(4.6)        # 함수의 호출\n",
    "print_round(2.2)"
   ]
  },
  {
   "cell_type": "code",
   "execution_count": null,
   "metadata": {},
   "outputs": [],
   "source": [
    "a = 3\n",
    "b = 5 \n",
    "result = b/a\n",
    "print(round(result))"
   ]
  },
  {
   "cell_type": "code",
   "execution_count": null,
   "metadata": {},
   "outputs": [],
   "source": [
    "print(\"%f\" % 0.1)\n",
    "a = 0.1 + 0.1 \n",
    "b = 0.2\n",
    "a==b"
   ]
  },
  {
   "cell_type": "code",
   "execution_count": null,
   "metadata": {},
   "outputs": [],
   "source": [
    "list1=[1,2,3]\n",
    "# 여기에 코드를 추가해 보세요.\n",
    "list1.pop(1)\n",
    "print(list1)\n",
    "len(list1)\n",
    "del list1[0]\n",
    "print(list1)"
   ]
  },
  {
   "cell_type": "code",
   "execution_count": null,
   "metadata": {},
   "outputs": [],
   "source": [
    "names = ['철수', '영희', '영수']\n",
    "for i, name in enumerate(names):\n",
    "    print('{}번 : {}'.format(i + 1, name))"
   ]
  },
  {
   "cell_type": "code",
   "execution_count": null,
   "metadata": {},
   "outputs": [],
   "source": [
    "days = [31,29,31,30,31,30,31,31,30,31,30,31]\n",
    "\n",
    "for i, day in enumerate(days):\n",
    "    print('{}월의 날짜수는 {}일 입니다.'.format(i+1 , day))\n",
    "\n",
    "''' 같음\n",
    "days = [31,29,31,30,31,30,31,31,30,31,30,31]\n",
    "\n",
    "for i in range(len(days)):\n",
    "    day = days[i]\n",
    "    print('{}월의 날짜수는 {}일 입니다.'.format(i+1 , day))\n",
    "'''"
   ]
  },
  {
   "cell_type": "code",
   "execution_count": 108,
   "metadata": {},
   "outputs": [
    {
     "output_type": "stream",
     "name": "stdout",
     "text": [
      "dict_keys(['나는', '너는'])\n{'다지웠다': 101010}\n"
     ]
    }
   ],
   "source": [
    "dict = {'나는' : 1, '너는': 2}\n",
    "print(dict.keys())\n",
    "del(dict['나는']) \n",
    "del dict['너는']\n",
    "dict['다지웠다']= 101010\n",
    "print(dict)\n",
    "# 딕셔너리 순서 없음? 순서 바꿔서 출력하는법"
   ]
  },
  {
   "cell_type": "code",
   "execution_count": 114,
   "metadata": {},
   "outputs": [
    {
     "output_type": "stream",
     "name": "stdout",
     "text": [
      "0 Tod 35\n1 Jane 23\n2 Paul 62\n35\n23\n62\n"
     ]
    }
   ],
   "source": [
    "ages = {'Tod' : 35, 'Jane' : 23, 'Paul' : 62}\n",
    "\n",
    "for index,(key,elem) in enumerate(ages.items()):      # keys() 생략 가능\n",
    "    print(index,key,elem)               # Tod, Jame, Paul이 출력됩니다.\n",
    "\n",
    "for value in ages.values():\n",
    "    print(value)             # 62, 23, 35가 출력됩니다."
   ]
  },
  {
   "cell_type": "code",
   "execution_count": 120,
   "metadata": {},
   "outputs": [
    {
     "output_type": "stream",
     "name": "stdout",
     "text": [
      "[1, 2, 3, 4, 5]\n"
     ]
    }
   ],
   "source": [
    "tuple1 = (1, 2, 3, 4)\n",
    "\n",
    "tuple2 = 1, 2, 3, 4\n",
    "\n",
    "mylist = [1,2,3,4,5]\n",
    "tuple3 = tuple(mylist)\n",
    "list1 = list(tuple3)\n",
    "print(list1)\n",
    "\n"
   ]
  },
  {
   "cell_type": "code",
   "execution_count": 126,
   "metadata": {},
   "outputs": [
    {
     "output_type": "stream",
     "name": "stdout",
     "text": [
      "3 5\n5 3\n"
     ]
    }
   ],
   "source": [
    "'''\n",
    "튜플의 활용\n",
    "두 변수의 값을 바꿀 때 임시변수가 필요 없다.\n",
    "함수의 리턴 값으로 여러 값을 전달할 수 있다.\n",
    "'''\n",
    "a = 5\n",
    "b = 3 \n",
    "temp = a\n",
    "a = b\n",
    "b = temp\n",
    "print(a,b)\n",
    "# tuple활용\n",
    "a, b = b, a\n",
    "print(a,b)\n"
   ]
  },
  {
   "cell_type": "code",
   "execution_count": null,
   "metadata": {},
   "outputs": [],
   "source": []
  }
 ]
}