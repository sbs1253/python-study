{
 "metadata": {
  "language_info": {
   "codemirror_mode": {
    "name": "ipython",
    "version": 3
   },
   "file_extension": ".py",
   "mimetype": "text/x-python",
   "name": "python",
   "nbconvert_exporter": "python",
   "pygments_lexer": "ipython3",
   "version": "3.8.5-final"
  },
  "orig_nbformat": 2,
  "kernelspec": {
   "name": "python3",
   "display_name": "Python 3",
   "language": "python"
  }
 },
 "nbformat": 4,
 "nbformat_minor": 2,
 "cells": [
  {
   "cell_type": "code",
   "execution_count": null,
   "metadata": {},
   "outputs": [],
   "source": [
    "animals = ['땅다람쥐', '바다소', '바다 코끼리','스컹크','아나콘다','코알라','하이애나','바다소']\n",
    "animals.sort()\n",
    "animals = animals+['바다소','스컹크']\n",
    "animals.count('스컹크')\n",
    "len(animals)"
   ]
  },
  {
   "cell_type": "code",
   "execution_count": null,
   "metadata": {},
   "outputs": [],
   "source": [
    "tuple_1=('name','many')\n",
    "tuple_2=()\n",
    "tuple_3= '김치','치즈','스마일'\n",
    "\n",
    "tuple_1\n",
    "tuple_2\n",
    "tuple_3"
   ]
  },
  {
   "cell_type": "code",
   "execution_count": null,
   "metadata": {},
   "outputs": [],
   "source": [
    "num_1=['바보','멍청이']\n",
    "num_2=['공부','시러']\n",
    "num_3=['dmd','dsad']\n",
    "\n",
    "for i in range(1,4):\n",
    "    print([f'num_{i}'])"
   ]
  },
  {
   "cell_type": "code",
   "execution_count": null,
   "metadata": {},
   "outputs": [],
   "source": [
    "s = [3]\n",
    "for i in range(s):\n",
    "    print(i)\n",
    "    print(\"++\")"
   ]
  },
  {
   "cell_type": "code",
   "execution_count": null,
   "metadata": {},
   "outputs": [],
   "source": [
    "# 구구단\n",
    "for i in range(2,10):\n",
    "    for j in range(1,10):\n",
    "        if j==1:\n",
    "            print(\"\\n\")\n",
    "        print(\"{} * {} = {}\".format(i, j, i*j))"
   ]
  },
  {
   "cell_type": "code",
   "execution_count": null,
   "metadata": {},
   "outputs": [],
   "source": [
    "# 홀수만 넣기 \n",
    "numbers = [1,2,3,4,5,6,7,8,9,10]\n",
    "odd_numbers = []\n",
    "\n",
    "for num in numbers:\n",
    "    if num % 2 == 1:\n",
    "        odd_numbers.append(num)\n",
    "print(odd_numbers)\n",
    "\n",
    "# 따옴표 3개 예시\n",
    "hello = '''hello, world!\n",
    "안녕하세요\n",
    "python 입니다. '''\n",
    "print(hello)"
   ]
  },
  {
   "cell_type": "code",
   "execution_count": null,
   "metadata": {},
   "outputs": [],
   "source": [
    "'''\n",
    "위와 같은것 comprehension = 리스트로 간결하게 만드는 것 , [] 선언 안해도 리스트 생성됨\n",
    "'''\n",
    "odd_number = [num for num in numbers if num % 2 == 1]\n",
    "print(odd_number)"
   ]
  },
  {
   "cell_type": "code",
   "execution_count": null,
   "metadata": {},
   "outputs": [],
   "source": [
    "# Operator \n",
    "# 할당 연산자 Assign \n",
    "# 산술 연산자 Arithmetic //는 몫만 출력 ex) 7 // 3 = 2, 7 % 3 = 1\n",
    "numbers = []\n",
    "hol={}\n",
    "zzak = {}\n",
    "\n",
    "for number in range(1,100):\n",
    "    numbers.append(number)\n",
    "    if number % 2 == 1:\n",
    "        hol[number] = '홀'\n",
    "    else :\n",
    "        zzak[number] = '짝'\n",
    "print(str(hol).replace(',','\\n'))\n",
    "print(str(zzak).replace(',','\\n'))\n",
    "    \n"
   ]
  },
  {
   "cell_type": "code",
   "execution_count": null,
   "metadata": {},
   "outputs": [],
   "source": [
    "numbers = [1, 2, 3, 4, 5, 6, 7]\n",
    "for number in numbers:\n",
    "    if number % 2 == 1:\n",
    "        print(number, ': 홀수')\n",
    "    else:\n",
    "        print(number, ': 짝수')"
   ]
  },
  {
   "cell_type": "code",
   "execution_count": 14,
   "metadata": {},
   "outputs": [
    {
     "output_type": "stream",
     "name": "stdout",
     "text": [
      "15\n5\n"
     ]
    }
   ],
   "source": [
    "def cls(a):\n",
    "    d=3\n",
    "    return a*d\n",
    "a=5\n",
    "print(cls(a))\n",
    "print(a)"
   ]
  },
  {
   "cell_type": "code",
   "execution_count": null,
   "metadata": {},
   "outputs": [],
   "source": []
  }
 ]
}