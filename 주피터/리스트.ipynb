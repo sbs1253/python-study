{
 "metadata": {
  "language_info": {
   "codemirror_mode": {
    "name": "ipython",
    "version": 3
   },
   "file_extension": ".py",
   "mimetype": "text/x-python",
   "name": "python",
   "nbconvert_exporter": "python",
   "pygments_lexer": "ipython3",
   "version": "3.8.5-final"
  },
  "orig_nbformat": 2,
  "kernelspec": {
   "name": "python3",
   "display_name": "Python 3",
   "language": "python"
  }
 },
 "nbformat": 4,
 "nbformat_minor": 2,
 "cells": [
  {
   "cell_type": "code",
   "execution_count": null,
   "metadata": {},
   "outputs": [],
   "source": [
    "list = ['우리','공부','해봐요']\n",
    "for a in enumerate(list):\n",
    "    print('{}번째 값: {}'.format(a[0], a[1]))\n",
    "print(\"\")\n",
    "for a in enumerate(list):\n",
    "    print('{}번째 값: {}'.format(*a))\n",
    "print(\"\")\n",
    "\n",
    "dict = {'콜라': 2000, '사이다': 1900, '바나나우유': 1300}\n",
    "for a in dict.items():\n",
    "    print('{}의 가격은:{}'.format(a[0], a[1]))\n",
    "print(\"\")\n",
    "for a in dict.items():\n",
    "    print('{}의 가격은:{}'.format(*a))\n",
    "print(\"\")\n"
   ]
  },
  {
   "cell_type": "code",
   "execution_count": null,
   "metadata": {},
   "outputs": [],
   "source": [
    "sizes = [33,35,34,37,32,35,39,32,35,29]\n",
    "for i,size in enumerate(sizes):\n",
    "    if size == 32:\n",
    "        print(\"사이즈 32인 바지는 {}번째에 있다.\".format(i+1))\n",
    "        # 여기에 코드를 추가하세요\n",
    "        # continue\n",
    "\n",
    "sizes = [33,35,34,37,32,35,39,32,35,29]\n",
    "for i,size in enumerate(sizes):\n",
    "    if size == 32:\n",
    "        print(\"사이즈 32인 바지는 {}번째에 있다.\".format(i+1))\n",
    "        # 여기에 코드를 추가하세요\n",
    "        break"
   ]
  },
  {
   "cell_type": "code",
   "execution_count": null,
   "metadata": {},
   "outputs": [],
   "source": [
    "try:\n",
    "     a = 3/0\n",
    "except ZeroDivisionError: # Exception(예외) 넣어도 됨\n",
    "     print(\"0으로 나눌 수 없습니다.\")\n",
    "\n",
    "try:\n",
    "     a = 3/0\n",
    "except: # Exception(예외) 넣어도 됨\n",
    "     print(\"0으로 나눌 수 없습니다.\")\n",
    "     \n",
    "try:\n",
    "     list = []\n",
    "     list[0]\n",
    "except Exception as ex: # 에러 모를때\n",
    "     print(\"에러 발생\", ex)\n"
   ]
  },
  {
   "cell_type": "code",
   "execution_count": 63,
   "metadata": {},
   "outputs": [
    {
     "output_type": "stream",
     "name": "stdout",
     "text": [
      "1반 반에 190을 넘는 학생이 있다.\n2반 반에 190을 넘는 학생이 있다.\n"
     ]
    }
   ],
   "source": [
    "school = {'1반' : [180,192,182,160,173],    \n",
    "          '2반' : [182,183,184,195,185]}\n",
    "for class_number, students in school.items(): # 값이 한번에 들어감\n",
    "    for student in students:\n",
    "        if student > 190:\n",
    "            print(class_number, '반에 190을 넘는 학생이 있다.')\n",
    "            break\n",
    "# berak로는 1번만 출력 못함"
   ]
  },
  {
   "cell_type": "code",
   "execution_count": 56,
   "metadata": {},
   "outputs": [
    {
     "output_type": "stream",
     "name": "stdout",
     "text": [
      "1반 반에 190을 넘는 학생이 있다.\n정상종료\n"
     ]
    }
   ],
   "source": [
    "school = {'1반' : [180,192,182,160,173],    \n",
    "          '2반' : [182,183,184,195,185]}\n",
    "try:\n",
    "    for class_number, students in school.items(): # 값이 한번에 들어감\n",
    "        for student in students:\n",
    "            if student > 190:\n",
    "                print(class_number, '반에 190을 넘는 학생이 있다.')\n",
    "                raise StopIteration # raise만 써도됨\n",
    "except StopIteration: \n",
    "    print('정상종료')\n",
    "# raise를 이용해서 종료"
   ]
  }
 ]
}