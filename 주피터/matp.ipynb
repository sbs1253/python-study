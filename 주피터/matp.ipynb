{
 "cells": [
  {
   "cell_type": "code",
   "execution_count": null,
   "metadata": {},
   "outputs": [],
   "source": [
    "plt.rcParams['font.size'] = 12.\n",
    "plt.rcParams['xtick.labelsize'] = 12.\n",
    "plt.rcParams['ytick.labelsize'] = 12.\n",
    "plt.rcParams['axes.labelsize'] = 12."
   ]
  },
  {
   "cell_type": "code",
   "execution_count": null,
   "metadata": {},
   "outputs": [],
   "source": [
    "import matplotlib.pyplot as plt\n",
    "# plot() 선, 곡선 그래프\n",
    "\n",
    "plt.title('graph')\n",
    "plt.plot([10,20,30,40],label='up')\n",
    "plt.plot([40,30,20,10],label='down')\n",
    "plt.legend()\n",
    "plt.show()"
   ]
  },
  {
   "cell_type": "code",
   "execution_count": null,
   "metadata": {},
   "outputs": [],
   "source": [
    "import matplotlib.pyplot as pyplot\n",
    "import random\n",
    "# hist = 자료의 분포를 막대 그래프로 나타냄\n",
    "\n",
    "dice = []\n",
    "for i in range(5):\n",
    "    dice.append(random.randint(1,6))\n",
    "plt.hist(dice, bins=6)\n",
    "plt.show()"
   ]
  },
  {
   "cell_type": "code",
   "execution_count": null,
   "metadata": {},
   "outputs": [],
   "source": [
    "import matplotlib.pyplot as plt\n",
    "import random\n",
    "# Boxplot = 최대,최소,상위 1/4,2/4,3/4 값을 보여주는 그래프\n",
    "\n",
    "result =[]\n",
    "for i in range(13):\n",
    "    result.append(random.randint(1,1000))\n",
    "print(sorted(result))\n",
    "plt.boxplot(result)\n",
    "plt.show()"
   ]
  },
  {
   "cell_type": "code",
   "execution_count": null,
   "metadata": {},
   "outputs": [],
   "source": [
    "import matplotlib.pyplot as plt\n",
    "import random\n",
    "# 버블차트, scatter() = 점이 흩어진 모양의 그래프\n",
    "\n",
    "x=[]\n",
    "y=[]\n",
    "size=[]\n",
    "\n",
    "for i in range(100):\n",
    "    x.append(random.randint(50,100))\n",
    "    y.append(random.randint(50,100))\n",
    "    size.append(random.randint(10,100))\n",
    "plt.scatter(x,y,s=size,c=size,cmap='jet')\n",
    "# s:size, c:색상의수, cmap: 컬러바 색종류, jet:무지개개\n",
    "plt.colorbar()\n",
    "plt.show()"
   ]
  },
  {
   "cell_type": "code",
   "execution_count": null,
   "metadata": {},
   "outputs": [],
   "source": [
    "import numpy as np\n",
    "\n",
    "A=np.array([[1,2,3],[4,5,6]])\n",
    "print(A)\n",
    "\n",
    "Af = np.array([1,2,3],float)\n",
    "\n",
    "print(np.arange(0,1,0.2))\n",
    "# 끝 값 안들어감\n",
    "print(np.linspace(0, 2*np.pi, 4))\n",
    "# 끝 값 들어감\n",
    "A= np.zeros((2,3))  # 2행 3열 배열을 0으로 채움\n",
    "print(A)\n",
    "\n",
    "print(A.shape)  # 크기 ex) 2행 3열의 구조\n",
    "\n",
    "print(np.random.random((2,3)))\n",
    "\n",
    "a=np.random.normal(loc=1.0, scale=2.0, size=(2,2))\n",
    "print(a) # loc= 정규분포의 평균 scale= 표준편차"
   ]
  },
  {
   "cell_type": "code",
   "execution_count": null,
   "metadata": {},
   "outputs": [],
   "source": [
    "a=([1,2,3],[4,5,6])\n",
    "print(list(a))"
   ]
  },
  {
   "cell_type": "code",
   "execution_count": null,
   "metadata": {},
   "outputs": [],
   "source": [
    "import numpy as np\n",
    "\n",
    "A = np.zeros((2,2))\n",
    "C = A\n",
    "C[0,0]=1\n",
    "print(A)\n"
   ]
  },
  {
   "cell_type": "code",
   "execution_count": null,
   "metadata": {},
   "outputs": [],
   "source": [
    "import numpy as np\n",
    "\n",
    "a = np.arange(10).reshape((2,5))\n",
    "print(a)\n",
    "\n",
    "# a.dim # 2dimension\n",
    "# a.shape # (2,5) shape of array\n",
    "# a.size # 10 # of elements\n",
    "# a.T # transpose\n",
    "# a.dtype # data type\n"
   ]
  },
  {
   "cell_type": "code",
   "execution_count": null,
   "metadata": {},
   "outputs": [],
   "source": [
    "# 산술 연산\n",
    "import numpy as np\n",
    "a = np.arange(4)\n",
    "print(a)\n",
    "b=np.array([2,3,2,4])\n",
    "print(b)\n",
    "\n",
    "print(a*b)\n",
    "print(b-a)\n",
    "\n",
    "c= [2,3,4,5]\n",
    "a*c\n"
   ]
  },
  {
   "cell_type": "code",
   "execution_count": null,
   "metadata": {},
   "outputs": [],
   "source": [
    "import numpy as np\n",
    "A = np.array([[1,2],[3,4]])\n",
    "B = np.array([10,20])\n",
    "A*B"
   ]
  },
  {
   "cell_type": "code",
   "execution_count": null,
   "metadata": {},
   "outputs": [],
   "source": [
    "import numpy as np\n",
    "A = np.ones((3,3))\n",
    "\n",
    "print (3*A-1)\n"
   ]
  },
  {
   "cell_type": "code",
   "execution_count": null,
   "metadata": {},
   "outputs": [],
   "source": [
    "import numpy as np\n",
    "u=[1,2,3]\n",
    "v=[1,1,1]\n",
    "\n",
    "np.inner(u,v) # 6\n",
    "np.dot(u,v) # 6\n",
    "np.outer(u,v)\n",
    "\n"
   ]
  },
  {
   "cell_type": "code",
   "execution_count": null,
   "metadata": {},
   "outputs": [],
   "source": [
    "import matplotlib"
   ]
  },
  {
   "cell_type": "code",
   "execution_count": null,
   "metadata": {},
   "outputs": [],
   "source": [
    "import matplotlib.pyplot as plt\n",
    "import matplotlib.font_manager as fm\n",
    "\n",
    "path = '/usr/share/fonts/truetype/nanum/NanumBarunGothic.ttf'\n",
    "fontprop = fm.FontProperties(fname=path, size=18)"
   ]
  },
  {
   "cell_type": "code",
   "execution_count": null,
   "metadata": {},
   "outputs": [],
   "source": [
    "import csv\n",
    "\n",
    "f = open('/mnt/c/Users/rokaf/Desktop/age.csv', encoding='CP949')\n",
    "data= csv.reader(f)\n",
    "next(data)\n",
    "home=[]\n",
    "name= input(\"입력\")\n",
    "for row in data:\n",
    "    if name in row[0]:\n",
    "        home = np.array(row[3:],dtype=int)\n",
    "print(home)\n"
   ]
  },
  {
   "cell_type": "code",
   "execution_count": null,
   "metadata": {},
   "outputs": [],
   "source": [
    "plt.title(name+\"-지역의 인구 구조\",FontProperties=fontprop)\n",
    "plt.plot(home)\n",
    "plt.show()"
   ]
  }
 ],
 "metadata": {
  "kernelspec": {
   "name": "python3",
   "display_name": "Python 3",
   "language": "python"
  },
  "language_info": {
   "codemirror_mode": {
    "name": "ipython",
    "version": 3
   },
   "file_extension": ".py",
   "mimetype": "text/x-python",
   "name": "python",
   "nbconvert_exporter": "python",
   "pygments_lexer": "ipython3",
   "version": "3.8.5-final"
  }
 },
 "nbformat": 4,
 "nbformat_minor": 4
}