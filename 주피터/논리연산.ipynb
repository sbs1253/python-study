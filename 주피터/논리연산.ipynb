{
 "metadata": {
  "language_info": {
   "codemirror_mode": {
    "name": "ipython",
    "version": 3
   },
   "file_extension": ".py",
   "mimetype": "text/x-python",
   "name": "python",
   "nbconvert_exporter": "python",
   "pygments_lexer": "ipython3",
   "version": "3.8.5-final"
  },
  "orig_nbformat": 2,
  "kernelspec": {
   "name": "python3",
   "display_name": "Python 3",
   "language": "python"
  }
 },
 "nbformat": 4,
 "nbformat_minor": 2,
 "cells": [
  {
   "cell_type": "code",
   "execution_count": null,
   "metadata": {},
   "outputs": [],
   "source": [
    "def return_false():\n",
    "    print(\"함수 return_false\")\n",
    "    return False\n",
    "    \n",
    "def return_true():\n",
    "    print(\"함수 return_true\")\n",
    "    return True\n",
    "\n",
    "print(\"테스트1\")\n",
    "a = return_false()\n",
    "b = return_true()\n",
    "if a and b: # a와 b가 True 라면\n",
    "    print(True)\n",
    "else:\n",
    "    print(False)\n",
    "print(\"\")\n",
    "\n",
    "print('테스트2')\n",
    "if return_false() and return_true(): # 첫번째 값에서 단락평가\n",
    "    print('True')\n",
    "else:\n",
    "    print('False')\n",
    "\n",
    "    # a를 호출하면 왜 print가 왜 안나오는지\n",
    "    # return_false 괄호 없이 입력하면 True가 왜나오는지"
   ]
  },
  {
   "cell_type": "code",
   "execution_count": null,
   "metadata": {},
   "outputs": [],
   "source": [
    "dic = {'key2':'Velue1'}\n",
    "if 'key1' in dic and dic[\"key1\"] == 'Value1':\n",
    "    print('값이 있네')\n",
    "else:\n",
    "    print(\"아니네\")\n",
    "# 두개 단락평가 비교\n",
    "\n",
    "dic = {'key2':'Velue1'}\n",
    "if dic[\"key1\"] == 'Value1' and 'key1' in dic:\n",
    "    print('값이 있네')\n",
    "else:\n",
    "    print(\"아니네\")"
   ]
  },
  {
   "cell_type": "code",
   "execution_count": null,
   "metadata": {},
   "outputs": [],
   "source": [
    "print(bool()) # 값이 있으면 True\n",
    "\n",
    "if 'hi':\n",
    "    print('출력',\"\\n\")\n",
    "\n",
    "if '':\n",
    "    print('안출력')\n",
    "\n",
    "value = '아무것도 못받았어' and input('입력해 주세요') # 뒤에 값 저장됨 ,단락평가\n",
    "print('입력받은 값',value)\n",
    "\n",
    "value = input('입력해 주세요') and '아무것도 못받았어' \n",
    "print('입력받은 값',value)\n",
    "\n",
    "value = input('입력해 주세요') or '아무것도 못받았어' # True값 저장됨\n",
    "print('입력받은 값',value)\n",
    "\n",
    "# and 문자열은 어떨게 연산되는건지"
   ]
  },
  {
   "cell_type": "code",
   "execution_count": null,
   "metadata": {},
   "outputs": [],
   "source": [
    "value = not input('입력해 주세요') # True값 저장됨\n",
    "print('입력받은 값',value)"
   ]
  },
  {
   "cell_type": "code",
   "execution_count": null,
   "metadata": {},
   "outputs": [],
   "source": [
    "def safe_index(my_list, value):\n",
    "    # 함수를 완성하세요\n",
    "    if value in my_list:\n",
    "        return my_list.index(value)\n",
    "    else:\n",
    "        return None\n",
    "\n",
    "print(safe_index([1,2,3,4,5], 5))\n",
    "print(safe_index([1,2,3], 5))\n"
   ]
  },
  {
   "cell_type": "code",
   "execution_count": null,
   "metadata": {},
   "outputs": [],
   "source": [
    "list1 = [1, 2, 3, 4]\n",
    "\n",
    "# 아래줄에서 list1의 1번째 자리에 8을 넣고 원래 있던 값은 오른쪽으로 밀어 보세요.\n",
    "list1.insert(1,8)\n",
    "\n",
    "print(\"첫 번째 자리에 8을 넣은 결과 : {}\".format(list1))\n",
    "# 아래줄에서 list1을 작은 수부터 큰 수로 정렬해 보세요.\n",
    "list1.sort()\n",
    "\n",
    "print(\"list1을 작은 수부터 큰 수로 정렬한 결과 : {}\".format(list1))\n",
    "# 아래줄에서 list1을 거꾸로 만들어 보세요\n",
    "list1.reverse()\n",
    "\n",
    "print(\"list1을 거꾸로 정렬한 결과 : {}\".format(list1))\n"
   ]
  },
  {
   "cell_type": "code",
   "execution_count": null,
   "metadata": {},
   "outputs": [],
   "source": [
    "str = \"오늘은 날씨가 흐림\"\n",
    "\n",
    "# split()을 이용해서 str을 공백으로 나눈 문자열을 words에 저장하세요\n",
    "words = str.split()\n",
    "print(words)\n",
    "# index()를 이용해서 \"흐림\"이 words의 몇번째에 있는지 찾고, \n",
    "# position에 저장하세요.\n",
    "position = words.index('흐림')\n",
    "print(position)\n",
    "\n",
    "words[position] = \"맑음\"\n",
    "\n",
    "# join()을 이용해서 words를 다시 문자열로 바꿔 new_str에 저장하세요. \n",
    "# words를 문자열로 바꿀때는 공백 한 칸을 기준으로 붙이면 됩니다.\n",
    "new_str =  \" \".join(words)\n",
    "\n",
    "\n",
    "print(new_str)"
   ]
  },
  {
   "cell_type": "code",
   "execution_count": null,
   "metadata": {},
   "outputs": [],
   "source": [
    "words = 'aks dndisiak'\n",
    "list(words)\n",
    "\n",
    "rainbow = [\"빨\", \"주\", \"노\", \"초\", \"파\", \"남\", \"보\"]\n",
    "\n",
    "# red_colors가 [\"빨\", \"주\", \"노\"]의 값을 가지도록 rainbow를 slice하세요.\n",
    "red_colors = rainbow[0:3]\n",
    "\n",
    "#blue_colors가 [\"파\", \"남\", \"보\"]의 값을 가지도록 rainbow를 slice하세요.\n",
    "blue_colors = rainbow[:-1]\n",
    "\n",
    "print(\"red_colors의 값 : {}\".format(red_colors))\n",
    "print(\"blue_colors의 값 : {}\".format(blue_colors))"
   ]
  },
  {
   "cell_type": "code",
   "execution_count": null,
   "metadata": {},
   "outputs": [],
   "source": [
    "def substring(text, start, end):\n",
    "    return text[start:end]\n",
    "my_text = \"Hello world\"\n",
    "between_2_5 = substring(my_text, 2, 5)\n",
    "print(between_2_5) "
   ]
  },
  {
   "cell_type": "code",
   "execution_count": 1,
   "metadata": {},
   "outputs": [
    {
     "output_type": "stream",
     "name": "stdout",
     "text": [
      "[2, 4, 6, 8, 10, 12, 14, 16, 18, 20] [20, 18, 16, 14, 12, 10, 8, 6, 4, 2]\n"
     ]
    },
    {
     "output_type": "execute_result",
     "data": {
      "text/plain": [
       "True"
      ]
     },
     "metadata": {},
     "execution_count": 1
    }
   ],
   "source": [
    "list1 = list(range(21))\n",
    "print( list1[2:21:2],\n",
    "       list1[21:1:-2] )\n",
    "isinstance( 42, int ) # 자료형 검사\n",
    " "
   ]
  },
  {
   "source": [
    "numbers = list(range(10))\n",
    "print(numbers)\n",
    "del numbers[:3]\n",
    "print(numbers)\n",
    "\n",
    "numbers[1:3] = [77,88,99]\n",
    "print(numbers)\n",
    "numbers[1:3] = [8]\n",
    "print(numbers)"
   ],
   "cell_type": "code",
   "metadata": {},
   "execution_count": null,
   "outputs": []
  },
  {
   "cell_type": "code",
   "execution_count": null,
   "metadata": {},
   "outputs": [],
   "source": []
  }
 ]
}